{
 "cells": [
  {
   "cell_type": "markdown",
   "metadata": {},
   "source": [
    "# 作业一：数据探索性分析与数据预处理\n",
    "\n",
    "**姓名**：车天一\n",
    "**学号**：3120211032\n",
    "**邮箱**：ccty@bit.edu.cn\n",
    "\n",
    "**GitHub**: <https://github.com/ccty123/data_mining>"
   ]
  },
  {
   "cell_type": "markdown",
   "metadata": {},
   "source": [
    "# 目录\n",
    "\n",
    "### 1. 数据集1：Wine Reviews\n",
    "**1.1 数据摘要**  \n",
    "- 数据信息  \n",
    "- 缺失值统计  \n",
    "- 数值数据摘要  \n",
    "- 标称属性摘要  \n",
    "\n",
    "**1.2 数据可视化**  \n",
    "- 直方图与qq图  \n",
    "- 盒图  \n",
    "\n",
    "**1.3 处理缺失数据**  \n",
    "- 处理缺失标称数据  \n",
    "- 处理缺失数值数据  \n",
    "\n",
    "### 2. 数据集2：Wine Reviews\n",
    "**2.1 数据摘要**  \n",
    "- 数据信息  \n",
    "- 缺失值统计  \n",
    "- 数值数据摘要  \n",
    "- 标称属性摘要  \n",
    "\n",
    "**2.2 数据可视化**  \n",
    "- 直方图与qq图  \n",
    "- 盒图  "
   ]
  },
  {
   "cell_type": "code",
   "execution_count": 2,
   "metadata": {},
   "outputs": [],
   "source": [
    "import numpy as np\n",
    "import pandas as pd\n",
    "import statsmodels.api as sm\n",
    "import matplotlib.pyplot as plt\n",
    "import json\n",
    "%matplotlib inline"
   ]
  },
  {
   "cell_type": "markdown",
   "metadata": {},
   "source": [
    "# 1. 数据集1：Wine Reviews\n",
    "\n",
    "数据集主页：<https://www.kaggle.com/zynicide/wine-reviews#winemag-data-130k-v2.csv>"
   ]
  },
  {
   "cell_type": "markdown",
   "metadata": {},
   "source": [
    "**加载数据**"
   ]
  },
  {
   "cell_type": "code",
   "execution_count": 4,
   "metadata": {},
   "outputs": [],
   "source": [
    "# 第二版数据在第一版基础上去除了重复的实体，而且新增了三个属性\n",
    "df = pd.read_csv('WineReview/winemag-data-130k-v2.csv')\n",
    "# df = pd.read_csv('WineReview/winemag-data_first150k.csv')\n",
    "# with open('WineReview/winemag-data-130k-v2.json', 'r', encoding='utf-8') as fw:\n",
    "#     data = json.load(fw)"
   ]
  },
  {
   "cell_type": "markdown",
   "metadata": {},
   "source": [
    "## 1.1 数据摘要\n",
    "\n",
    "包括“数据信息”、“缺失值统计”、“数值数据摘要”、“标称数据摘要”共4部分。"
   ]
  },
  {
   "cell_type": "markdown",
   "metadata": {},
   "source": [
    "### 数据信息\n",
    "\n",
    "数据集中共有14列，129971行。其中有3列是数值属性，11列是标称属性。"
   ]
  },
  {
   "cell_type": "code",
   "execution_count": 5,
   "metadata": {},
   "outputs": [
    {
     "name": "stdout",
     "output_type": "stream",
     "text": [
      "14 columns\n",
      "129971 rows\n",
      "\n",
      "object     11\n",
      "int64       2\n",
      "float64     1\n",
      "dtype: int64\n"
     ]
    }
   ],
   "source": [
    "print('%d columns' % len(df.columns))\n",
    "print('%d rows' % len(df.index))\n",
    "print()\n",
    "print(df.dtypes.value_counts())"
   ]
  },
  {
   "cell_type": "markdown",
   "metadata": {},
   "source": [
    "数据集中的前5行展示如下。"
   ]
  },
  {
   "cell_type": "code",
   "execution_count": 6,
   "metadata": {},
   "outputs": [
    {
     "data": {
      "text/html": [
       "<div>\n",
       "<style scoped>\n",
       "    .dataframe tbody tr th:only-of-type {\n",
       "        vertical-align: middle;\n",
       "    }\n",
       "\n",
       "    .dataframe tbody tr th {\n",
       "        vertical-align: top;\n",
       "    }\n",
       "\n",
       "    .dataframe thead th {\n",
       "        text-align: right;\n",
       "    }\n",
       "</style>\n",
       "<table border=\"1\" class=\"dataframe\">\n",
       "  <thead>\n",
       "    <tr style=\"text-align: right;\">\n",
       "      <th></th>\n",
       "      <th>Unnamed: 0</th>\n",
       "      <th>country</th>\n",
       "      <th>description</th>\n",
       "      <th>designation</th>\n",
       "      <th>points</th>\n",
       "      <th>price</th>\n",
       "      <th>province</th>\n",
       "      <th>region_1</th>\n",
       "      <th>region_2</th>\n",
       "      <th>taster_name</th>\n",
       "      <th>taster_twitter_handle</th>\n",
       "      <th>title</th>\n",
       "      <th>variety</th>\n",
       "      <th>winery</th>\n",
       "    </tr>\n",
       "  </thead>\n",
       "  <tbody>\n",
       "    <tr>\n",
       "      <th>0</th>\n",
       "      <td>0</td>\n",
       "      <td>Italy</td>\n",
       "      <td>Aromas include tropical fruit, broom, brimston...</td>\n",
       "      <td>Vulkà Bianco</td>\n",
       "      <td>87</td>\n",
       "      <td>NaN</td>\n",
       "      <td>Sicily &amp; Sardinia</td>\n",
       "      <td>Etna</td>\n",
       "      <td>NaN</td>\n",
       "      <td>Kerin O’Keefe</td>\n",
       "      <td>@kerinokeefe</td>\n",
       "      <td>Nicosia 2013 Vulkà Bianco  (Etna)</td>\n",
       "      <td>White Blend</td>\n",
       "      <td>Nicosia</td>\n",
       "    </tr>\n",
       "    <tr>\n",
       "      <th>1</th>\n",
       "      <td>1</td>\n",
       "      <td>Portugal</td>\n",
       "      <td>This is ripe and fruity, a wine that is smooth...</td>\n",
       "      <td>Avidagos</td>\n",
       "      <td>87</td>\n",
       "      <td>15.0</td>\n",
       "      <td>Douro</td>\n",
       "      <td>NaN</td>\n",
       "      <td>NaN</td>\n",
       "      <td>Roger Voss</td>\n",
       "      <td>@vossroger</td>\n",
       "      <td>Quinta dos Avidagos 2011 Avidagos Red (Douro)</td>\n",
       "      <td>Portuguese Red</td>\n",
       "      <td>Quinta dos Avidagos</td>\n",
       "    </tr>\n",
       "    <tr>\n",
       "      <th>2</th>\n",
       "      <td>2</td>\n",
       "      <td>US</td>\n",
       "      <td>Tart and snappy, the flavors of lime flesh and...</td>\n",
       "      <td>NaN</td>\n",
       "      <td>87</td>\n",
       "      <td>14.0</td>\n",
       "      <td>Oregon</td>\n",
       "      <td>Willamette Valley</td>\n",
       "      <td>Willamette Valley</td>\n",
       "      <td>Paul Gregutt</td>\n",
       "      <td>@paulgwine</td>\n",
       "      <td>Rainstorm 2013 Pinot Gris (Willamette Valley)</td>\n",
       "      <td>Pinot Gris</td>\n",
       "      <td>Rainstorm</td>\n",
       "    </tr>\n",
       "    <tr>\n",
       "      <th>3</th>\n",
       "      <td>3</td>\n",
       "      <td>US</td>\n",
       "      <td>Pineapple rind, lemon pith and orange blossom ...</td>\n",
       "      <td>Reserve Late Harvest</td>\n",
       "      <td>87</td>\n",
       "      <td>13.0</td>\n",
       "      <td>Michigan</td>\n",
       "      <td>Lake Michigan Shore</td>\n",
       "      <td>NaN</td>\n",
       "      <td>Alexander Peartree</td>\n",
       "      <td>NaN</td>\n",
       "      <td>St. Julian 2013 Reserve Late Harvest Riesling ...</td>\n",
       "      <td>Riesling</td>\n",
       "      <td>St. Julian</td>\n",
       "    </tr>\n",
       "    <tr>\n",
       "      <th>4</th>\n",
       "      <td>4</td>\n",
       "      <td>US</td>\n",
       "      <td>Much like the regular bottling from 2012, this...</td>\n",
       "      <td>Vintner's Reserve Wild Child Block</td>\n",
       "      <td>87</td>\n",
       "      <td>65.0</td>\n",
       "      <td>Oregon</td>\n",
       "      <td>Willamette Valley</td>\n",
       "      <td>Willamette Valley</td>\n",
       "      <td>Paul Gregutt</td>\n",
       "      <td>@paulgwine</td>\n",
       "      <td>Sweet Cheeks 2012 Vintner's Reserve Wild Child...</td>\n",
       "      <td>Pinot Noir</td>\n",
       "      <td>Sweet Cheeks</td>\n",
       "    </tr>\n",
       "  </tbody>\n",
       "</table>\n",
       "</div>"
      ],
      "text/plain": [
       "   Unnamed: 0   country                                        description  \\\n",
       "0           0     Italy  Aromas include tropical fruit, broom, brimston...   \n",
       "1           1  Portugal  This is ripe and fruity, a wine that is smooth...   \n",
       "2           2        US  Tart and snappy, the flavors of lime flesh and...   \n",
       "3           3        US  Pineapple rind, lemon pith and orange blossom ...   \n",
       "4           4        US  Much like the regular bottling from 2012, this...   \n",
       "\n",
       "                          designation  points  price           province  \\\n",
       "0                        Vulkà Bianco      87    NaN  Sicily & Sardinia   \n",
       "1                            Avidagos      87   15.0              Douro   \n",
       "2                                 NaN      87   14.0             Oregon   \n",
       "3                Reserve Late Harvest      87   13.0           Michigan   \n",
       "4  Vintner's Reserve Wild Child Block      87   65.0             Oregon   \n",
       "\n",
       "              region_1           region_2         taster_name  \\\n",
       "0                 Etna                NaN       Kerin O’Keefe   \n",
       "1                  NaN                NaN          Roger Voss   \n",
       "2    Willamette Valley  Willamette Valley        Paul Gregutt   \n",
       "3  Lake Michigan Shore                NaN  Alexander Peartree   \n",
       "4    Willamette Valley  Willamette Valley        Paul Gregutt   \n",
       "\n",
       "  taster_twitter_handle                                              title  \\\n",
       "0          @kerinokeefe                  Nicosia 2013 Vulkà Bianco  (Etna)   \n",
       "1            @vossroger      Quinta dos Avidagos 2011 Avidagos Red (Douro)   \n",
       "2           @paulgwine       Rainstorm 2013 Pinot Gris (Willamette Valley)   \n",
       "3                   NaN  St. Julian 2013 Reserve Late Harvest Riesling ...   \n",
       "4           @paulgwine   Sweet Cheeks 2012 Vintner's Reserve Wild Child...   \n",
       "\n",
       "          variety               winery  \n",
       "0     White Blend              Nicosia  \n",
       "1  Portuguese Red  Quinta dos Avidagos  \n",
       "2      Pinot Gris            Rainstorm  \n",
       "3        Riesling           St. Julian  \n",
       "4      Pinot Noir         Sweet Cheeks  "
      ]
     },
     "execution_count": 6,
     "metadata": {},
     "output_type": "execute_result"
    }
   ],
   "source": [
    "df.head()"
   ]
  },
  {
   "cell_type": "markdown",
   "metadata": {},
   "source": [
    "### 缺失值统计\n",
    "\n",
    "统计每一列中的缺失值数量如下。"
   ]
  },
  {
   "cell_type": "code",
   "execution_count": 7,
   "metadata": {},
   "outputs": [
    {
     "data": {
      "text/plain": [
       "Unnamed: 0                   0\n",
       "country                     63\n",
       "description                  0\n",
       "designation              37465\n",
       "points                       0\n",
       "price                     8996\n",
       "province                    63\n",
       "region_1                 21247\n",
       "region_2                 79460\n",
       "taster_name              26244\n",
       "taster_twitter_handle    31213\n",
       "title                        0\n",
       "variety                      1\n",
       "winery                       0\n",
       "dtype: int64"
      ]
     },
     "execution_count": 7,
     "metadata": {},
     "output_type": "execute_result"
    }
   ],
   "source": [
    "df.isna().sum()"
   ]
  },
  {
   "cell_type": "markdown",
   "metadata": {},
   "source": [
    "### 数值数据摘要\n",
    "\n",
    "数值属性列中，第一列是数据id列不于考虑，对于另外的两个数值属性`points`和`price`，统计它们的五数概括（最小值、最大值、中位数、第1四分位点、第3四分位点），完整信息我们通过pandas.describe得到。"
   ]
  },
  {
   "cell_type": "code",
   "execution_count": 6,
   "metadata": {},
   "outputs": [
    {
     "data": {
      "text/html": [
       "<div>\n",
       "<style scoped>\n",
       "    .dataframe tbody tr th:only-of-type {\n",
       "        vertical-align: middle;\n",
       "    }\n",
       "\n",
       "    .dataframe tbody tr th {\n",
       "        vertical-align: top;\n",
       "    }\n",
       "\n",
       "    .dataframe thead th {\n",
       "        text-align: right;\n",
       "    }\n",
       "</style>\n",
       "<table border=\"1\" class=\"dataframe\">\n",
       "  <thead>\n",
       "    <tr style=\"text-align: right;\">\n",
       "      <th></th>\n",
       "      <th>Unnamed: 0</th>\n",
       "      <th>points</th>\n",
       "      <th>price</th>\n",
       "    </tr>\n",
       "  </thead>\n",
       "  <tbody>\n",
       "    <tr>\n",
       "      <th>count</th>\n",
       "      <td>129971.000000</td>\n",
       "      <td>129971.000000</td>\n",
       "      <td>120975.000000</td>\n",
       "    </tr>\n",
       "    <tr>\n",
       "      <th>mean</th>\n",
       "      <td>64985.000000</td>\n",
       "      <td>88.447138</td>\n",
       "      <td>35.363389</td>\n",
       "    </tr>\n",
       "    <tr>\n",
       "      <th>std</th>\n",
       "      <td>37519.540256</td>\n",
       "      <td>3.039730</td>\n",
       "      <td>41.022218</td>\n",
       "    </tr>\n",
       "    <tr>\n",
       "      <th>min</th>\n",
       "      <td>0.000000</td>\n",
       "      <td>80.000000</td>\n",
       "      <td>4.000000</td>\n",
       "    </tr>\n",
       "    <tr>\n",
       "      <th>25%</th>\n",
       "      <td>32492.500000</td>\n",
       "      <td>86.000000</td>\n",
       "      <td>17.000000</td>\n",
       "    </tr>\n",
       "    <tr>\n",
       "      <th>50%</th>\n",
       "      <td>64985.000000</td>\n",
       "      <td>88.000000</td>\n",
       "      <td>25.000000</td>\n",
       "    </tr>\n",
       "    <tr>\n",
       "      <th>75%</th>\n",
       "      <td>97477.500000</td>\n",
       "      <td>91.000000</td>\n",
       "      <td>42.000000</td>\n",
       "    </tr>\n",
       "    <tr>\n",
       "      <th>max</th>\n",
       "      <td>129970.000000</td>\n",
       "      <td>100.000000</td>\n",
       "      <td>3300.000000</td>\n",
       "    </tr>\n",
       "  </tbody>\n",
       "</table>\n",
       "</div>"
      ],
      "text/plain": [
       "          Unnamed: 0         points          price\n",
       "count  129971.000000  129971.000000  120975.000000\n",
       "mean    64985.000000      88.447138      35.363389\n",
       "std     37519.540256       3.039730      41.022218\n",
       "min         0.000000      80.000000       4.000000\n",
       "25%     32492.500000      86.000000      17.000000\n",
       "50%     64985.000000      88.000000      25.000000\n",
       "75%     97477.500000      91.000000      42.000000\n",
       "max    129970.000000     100.000000    3300.000000"
      ]
     },
     "execution_count": 6,
     "metadata": {},
     "output_type": "execute_result"
    }
   ],
   "source": [
    "df.describe()"
   ]
  },
  {
   "cell_type": "markdown",
   "metadata": {},
   "source": [
    "### 标称属性摘要\n",
    "\n",
    "定义`summary_column(col_name)`函数，统计标称属性`col_name`中不同值出现的频数和频率，并展示出现频率最高的前15个值。"
   ]
  },
  {
   "cell_type": "code",
   "execution_count": 8,
   "metadata": {},
   "outputs": [],
   "source": [
    "def summary_column(col_name):\n",
    "    col = df[col_name].value_counts()\n",
    "    print('Colunm name:', col_name)\n",
    "    print('%d different values.' % len(col))\n",
    "    print()\n",
    "    col = df[col_name].value_counts()\n",
    "    col_df = col.to_frame()\n",
    "    col_df['frequency'] = col.apply(lambda x: x / len(col))\n",
    "    col_df.rename(columns={'designation': 'counts'}, inplace=True)\n",
    "    print(col_df.iloc[:15])\n",
    "    print('...')\n",
    "    plt.bar(np.arange(15), col.iloc[:15])\n",
    "    plt.title(col_name)\n",
    "    plt.show()"
   ]
  },
  {
   "cell_type": "markdown",
   "metadata": {},
   "source": [
    "统计**designation**列如下，其他列同理。"
   ]
  },
  {
   "cell_type": "code",
   "execution_count": 9,
   "metadata": {
    "scrolled": false
   },
   "outputs": [
    {
     "name": "stdout",
     "output_type": "stream",
     "text": [
      "Colunm name: designation\n",
      "37979 different values.\n",
      "\n",
      "                 counts  frequency\n",
      "Reserve            2009   0.052898\n",
      "Estate             1322   0.034809\n",
      "Reserva            1259   0.033150\n",
      "Riserva             698   0.018379\n",
      "Estate Grown        621   0.016351\n",
      "Brut                513   0.013507\n",
      "Dry                 413   0.010874\n",
      "Barrel sample       375   0.009874\n",
      "Crianza             343   0.009031\n",
      "Estate Bottled      342   0.009005\n",
      "Vieilles Vignes     308   0.008110\n",
      "Brut Rosé           276   0.007267\n",
      "Gran Reserva        261   0.006872\n",
      "Barrel Sample       252   0.006635\n",
      "Tradition           238   0.006267\n",
      "...\n"
     ]
    },
    {
     "data": {
      "image/png": "[encoded data removed]",
      "text/plain": [
       "<Figure size 432x288 with 1 Axes>"
      ]
     },
     "metadata": {
      "needs_background": "light"
     },
     "output_type": "display_data"
    }
   ],
   "source": [
    "summary_column('designation')"
   ]
  },
  {
   "cell_type": "markdown",
   "metadata": {},
   "source": [
    "统计**province**列如下，其他列同理。"
   ]
  },
  {
   "cell_type": "code",
   "execution_count": 10,
   "metadata": {},
   "outputs": [
    {
     "name": "stdout",
     "output_type": "stream",
     "text": [
      "Colunm name: province\n",
      "425 different values.\n",
      "\n",
      "                    province  frequency\n",
      "California             36247  85.287059\n",
      "Washington              8639  20.327059\n",
      "Bordeaux                5941  13.978824\n",
      "Tuscany                 5897  13.875294\n",
      "Oregon                  5373  12.642353\n",
      "Burgundy                3980   9.364706\n",
      "Northern Spain          3851   9.061176\n",
      "Piedmont                3729   8.774118\n",
      "Mendoza Province        3264   7.680000\n",
      "Veneto                  2716   6.390588\n",
      "New York                2688   6.324706\n",
      "Alsace                  2440   5.741176\n",
      "Northeastern Italy      2138   5.030588\n",
      "Loire Valley            1856   4.367059\n",
      "Sicily & Sardinia       1797   4.228235\n",
      "...\n"
     ]
    },
    {
     "data": {
      "image/png": "[encoded data removed]",
      "text/plain": [
       "<Figure size 432x288 with 1 Axes>"
      ]
     },
     "metadata": {
      "needs_background": "light"
     },
     "output_type": "display_data"
    }
   ],
   "source": [
    "summary_column('province')"
   ]
  },
  {
   "cell_type": "markdown",
   "metadata": {},
   "source": [
    "## 1.2 数据可视化\n",
    "\n",
    "包括“直方图与qq图”、“盒图”共2部分"
   ]
  },
  {
   "cell_type": "markdown",
   "metadata": {},
   "source": [
    "### 直方图与qq图\n",
    "\n",
    "定义函数`distrib(col_name)`，对指定数值属性列`distrib(col_name)`，首先展示其频率分布直方图，然后将其标准化为均值为0，方差为1的分布，与标准正态分布一起绘制qq图。"
   ]
  },
  {
   "cell_type": "code",
   "execution_count": 11,
   "metadata": {},
   "outputs": [],
   "source": [
    "def distrib(col_name):\n",
    "    col = df[col_name].dropna()\n",
    "    plt.hist(col, 20)\n",
    "    plt.title(col_name)\n",
    "    plt.show()\n",
    "    \n",
    "    col = (col - col.mean()) / col.std()\n",
    "    fig = sm.qqplot(col, line='45')\n",
    "    plt.title('q-q plot')\n",
    "    plt.show()"
   ]
  },
  {
   "cell_type": "markdown",
   "metadata": {},
   "source": [
    "展示**points**列如下。从qq图中可以看出，**points**列中的数据近似满足正态分布。"
   ]
  },
  {
   "cell_type": "code",
   "execution_count": 12,
   "metadata": {},
   "outputs": [
    {
     "data": {
      "image/png": "[encoded data removed]",
      "text/plain": [
       "<Figure size 432x288 with 1 Axes>"
      ]
     },
     "metadata": {
      "needs_background": "light"
     },
     "output_type": "display_data"
    },
    {
     "data": {
      "image/png": "[encoded data removed]",
      "text/plain": [
       "<Figure size 432x288 with 1 Axes>"
      ]
     },
     "metadata": {
      "needs_background": "light"
     },
     "output_type": "display_data"
    }
   ],
   "source": [
    "distrib('points')"
   ]
  },
  {
   "cell_type": "markdown",
   "metadata": {},
   "source": [
    "展示**price**列如下。从qq图中可以看出，**price**列中的数据不满足正态分布。"
   ]
  },
  {
   "cell_type": "code",
   "execution_count": 13,
   "metadata": {},
   "outputs": [
    {
     "data": {
      "image/png": "[encoded data removed]",
      "text/plain": [
       "<Figure size 432x288 with 1 Axes>"
      ]
     },
     "metadata": {
      "needs_background": "light"
     },
     "output_type": "display_data"
    },
    {
     "data": {
      "image/png": "[encoded data removed]",
      "text/plain": [
       "<Figure size 432x288 with 1 Axes>"
      ]
     },
     "metadata": {
      "needs_background": "light"
     },
     "output_type": "display_data"
    }
   ],
   "source": [
    "distrib('price')"
   ]
  },
  {
   "cell_type": "markdown",
   "metadata": {},
   "source": [
    "### 盒图\n",
    "\n",
    "定义函数`boxplot(col_name)`来为指定列绘制盒图。"
   ]
  },
  {
   "cell_type": "code",
   "execution_count": 14,
   "metadata": {},
   "outputs": [],
   "source": [
    "def boxplot(col_name):\n",
    "    fig, ax = plt.subplots(figsize=(5, 6))\n",
    "    ax.set_title(col_name)\n",
    "    ax.boxplot(df[col_name].dropna())\n",
    "    plt.show()"
   ]
  },
  {
   "cell_type": "markdown",
   "metadata": {},
   "source": [
    "为**points**列绘制盒图如下所示。"
   ]
  },
  {
   "cell_type": "code",
   "execution_count": 15,
   "metadata": {},
   "outputs": [
    {
     "data": {
      "image/png": "[encoded data removed]",
      "text/plain": [
       "<Figure size 360x432 with 1 Axes>"
      ]
     },
     "metadata": {
      "needs_background": "light"
     },
     "output_type": "display_data"
    }
   ],
   "source": [
    "boxplot('points')"
   ]
  },
  {
   "cell_type": "markdown",
   "metadata": {},
   "source": [
    "为**price**列绘制盒图如下所示。从盒图中可以看出，**price**列中的数据偏向于较小的数值，数值越大，数据点越少。"
   ]
  },
  {
   "cell_type": "code",
   "execution_count": 16,
   "metadata": {},
   "outputs": [
    {
     "data": {
      "image/png": "[encoded data removed]",
      "text/plain": [
       "<Figure size 360x432 with 1 Axes>"
      ]
     },
     "metadata": {
      "needs_background": "light"
     },
     "output_type": "display_data"
    }
   ],
   "source": [
    "boxplot('price')"
   ]
  },
  {
   "cell_type": "markdown",
   "metadata": {},
   "source": [
    "## 1.3 处理缺失数据\n",
    "\n",
    "包括“处理缺失标称数据”与“处理缺失数值数据”两部分。"
   ]
  },
  {
   "cell_type": "markdown",
   "metadata": {},
   "source": [
    "### 处理缺失标称数据\n",
    "\n",
    "定义函数`show_column(col)`来展示数据。"
   ]
  },
  {
   "cell_type": "code",
   "execution_count": 18,
   "metadata": {},
   "outputs": [],
   "source": [
    "def show_column(col):\n",
    "    col = col.value_counts()\n",
    "    col_df = col.to_frame()\n",
    "    col_df['frequency'] = col.apply(lambda x: x / len(col))\n",
    "    col_df.rename(columns={'designation': 'counts'}, inplace=True)\n",
    "    print(col_df.iloc[:15])\n",
    "    print('...')\n",
    "    plt.bar(np.arange(15), col.iloc[:15])\n",
    "    plt.title(col_name)\n",
    "    plt.show()"
   ]
  },
  {
   "cell_type": "markdown",
   "metadata": {},
   "source": [
    "**designation**列中共有129971个数据，其中37465个数据为空数据。"
   ]
  },
  {
   "cell_type": "code",
   "execution_count": 19,
   "metadata": {},
   "outputs": [
    {
     "name": "stdout",
     "output_type": "stream",
     "text": [
      "colomn: designation\n",
      "total: 129971\n",
      "nan: 37465\n"
     ]
    }
   ],
   "source": [
    "col_name = 'designation'\n",
    "col = df[col_name]\n",
    "\n",
    "print('colomn:', col_name)\n",
    "print('total:', len(col))\n",
    "print('nan:', col.isna().sum())"
   ]
  },
  {
   "cell_type": "markdown",
   "metadata": {},
   "source": [
    "删除**designation**列中的空数据，结果统计如下。"
   ]
  },
  {
   "cell_type": "code",
   "execution_count": 20,
   "metadata": {},
   "outputs": [
    {
     "name": "stdout",
     "output_type": "stream",
     "text": [
      "                 counts  frequency\n",
      "Reserve            2009   0.052898\n",
      "Estate             1322   0.034809\n",
      "Reserva            1259   0.033150\n",
      "Riserva             698   0.018379\n",
      "Estate Grown        621   0.016351\n",
      "Brut                513   0.013507\n",
      "Dry                 413   0.010874\n",
      "Barrel sample       375   0.009874\n",
      "Crianza             343   0.009031\n",
      "Estate Bottled      342   0.009005\n",
      "Vieilles Vignes     308   0.008110\n",
      "Brut Rosé           276   0.007267\n",
      "Gran Reserva        261   0.006872\n",
      "Barrel Sample       252   0.006635\n",
      "Tradition           238   0.006267\n",
      "...\n"
     ]
    },
    {
     "data": {
      "image/png": "[encoded data removed]",
      "text/plain": [
       "<Figure size 432x288 with 1 Axes>"
      ]
     },
     "metadata": {
      "needs_background": "light"
     },
     "output_type": "display_data"
    }
   ],
   "source": [
    "col_1 = col.dropna()\n",
    "show_column(col_1)"
   ]
  },
  {
   "cell_type": "markdown",
   "metadata": {},
   "source": [
    "将**designation**列中的空数据替换为出现频率最高的数据，结果统计如下。"
   ]
  },
  {
   "cell_type": "code",
   "execution_count": 21,
   "metadata": {},
   "outputs": [
    {
     "name": "stdout",
     "output_type": "stream",
     "text": [
      "                 counts  frequency\n",
      "Reserve           39474   1.039364\n",
      "Estate             1322   0.034809\n",
      "Reserva            1259   0.033150\n",
      "Riserva             698   0.018379\n",
      "Estate Grown        621   0.016351\n",
      "Brut                513   0.013507\n",
      "Dry                 413   0.010874\n",
      "Barrel sample       375   0.009874\n",
      "Crianza             343   0.009031\n",
      "Estate Bottled      342   0.009005\n",
      "Vieilles Vignes     308   0.008110\n",
      "Brut Rosé           276   0.007267\n",
      "Gran Reserva        261   0.006872\n",
      "Barrel Sample       252   0.006635\n",
      "Tradition           238   0.006267\n",
      "...\n"
     ]
    },
    {
     "data": {
      "image/png": "[encoded data removed]",
      "text/plain": [
       "<Figure size 432x288 with 1 Axes>"
      ]
     },
     "metadata": {
      "needs_background": "light"
     },
     "output_type": "display_data"
    }
   ],
   "source": [
    "col_2 = col.fillna(col.mode()[0])\n",
    "show_column(col_2)"
   ]
  },
  {
   "cell_type": "markdown",
   "metadata": {},
   "source": [
    "### 处理缺失数值数据\n",
    "\n",
    "定义函数`show_plot(col)`和`show_describe(col)`来展示数据的信息。"
   ]
  },
  {
   "cell_type": "code",
   "execution_count": 22,
   "metadata": {},
   "outputs": [],
   "source": [
    "def show_plot(col):\n",
    "    plt.hist(col, 20)\n",
    "    plt.title('bar')\n",
    "    plt.show()\n",
    "    \n",
    "    col = (col - col.mean()) / col.std()\n",
    "    fig = sm.qqplot(col, line='45')\n",
    "    plt.title('q-q plot')\n",
    "    plt.show()\n",
    "    \n",
    "def show_describe(col):\n",
    "    print(col.describe())"
   ]
  },
  {
   "cell_type": "markdown",
   "metadata": {},
   "source": [
    "**price**列中共有129971个数据，其中8996个数据为空数据。"
   ]
  },
  {
   "cell_type": "code",
   "execution_count": 23,
   "metadata": {},
   "outputs": [
    {
     "name": "stdout",
     "output_type": "stream",
     "text": [
      "colomn: price\n",
      "total: 129971\n",
      "nan: 8996\n"
     ]
    }
   ],
   "source": [
    "col_name = 'price'\n",
    "col = df[col_name]\n",
    "\n",
    "print('colomn:', col_name)\n",
    "print('total:', len(col))\n",
    "print('nan:', col.isna().sum())"
   ]
  },
  {
   "cell_type": "markdown",
   "metadata": {},
   "source": [
    "去除**price**列中的空数据，展示如下。"
   ]
  },
  {
   "cell_type": "code",
   "execution_count": 24,
   "metadata": {},
   "outputs": [
    {
     "name": "stdout",
     "output_type": "stream",
     "text": [
      "count    120975.000000\n",
      "mean         35.363389\n",
      "std          41.022218\n",
      "min           4.000000\n",
      "25%          17.000000\n",
      "50%          25.000000\n",
      "75%          42.000000\n",
      "max        3300.000000\n",
      "Name: price, dtype: float64\n"
     ]
    },
    {
     "data": {
      "image/png": "[encoded data removed]",
      "text/plain": [
       "<Figure size 432x288 with 1 Axes>"
      ]
     },
     "metadata": {
      "needs_background": "light"
     },
     "output_type": "display_data"
    },
    {
     "data": {
      "image/png": "[encoded data removed]",
      "text/plain": [
       "<Figure size 432x288 with 1 Axes>"
      ]
     },
     "metadata": {
      "needs_background": "light"
     },
     "output_type": "display_data"
    }
   ],
   "source": [
    "col_1 = col.dropna()\n",
    "show_describe(col_1)\n",
    "show_plot(col_1)"
   ]
  },
  {
   "cell_type": "markdown",
   "metadata": {},
   "source": [
    "将**price**列中的空数据用出现频率最高的数替代，展示如下。"
   ]
  },
  {
   "cell_type": "code",
   "execution_count": 25,
   "metadata": {
    "scrolled": false
   },
   "outputs": [
    {
     "name": "stdout",
     "output_type": "stream",
     "text": [
      "count    129971.000000\n",
      "mean         34.300005\n",
      "std          39.768715\n",
      "min           4.000000\n",
      "25%          18.000000\n",
      "50%          25.000000\n",
      "75%          40.000000\n",
      "max        3300.000000\n",
      "Name: price, dtype: float64\n"
     ]
    },
    {
     "data": {
      "image/png": "[encoded data removed]",
      "text/plain": [
       "<Figure size 432x288 with 1 Axes>"
      ]
     },
     "metadata": {
      "needs_background": "light"
     },
     "output_type": "display_data"
    },
    {
     "data": {
      "image/png": "[encoded data removed]",
      "text/plain": [
       "<Figure size 432x288 with 1 Axes>"
      ]
     },
     "metadata": {
      "needs_background": "light"
     },
     "output_type": "display_data"
    }
   ],
   "source": [
    "col_2 = col.fillna(col.mode()[0])\n",
    "show_describe(col_2)\n",
    "show_plot(col_2)"
   ]
  },
  {
   "cell_type": "markdown",
   "metadata": {},
   "source": [
    "# 2. 数据集2：MLB Pitch Data 2015-2018\n",
    "\n",
    "数据集主页：<https://www.kaggle.com/pschale/mlb-pitch-data-20152018#atbats.csv>"
   ]
  },
  {
   "cell_type": "markdown",
   "metadata": {},
   "source": [
    "**加载数据**"
   ]
  },
  {
   "cell_type": "code",
   "execution_count": 26,
   "metadata": {},
   "outputs": [],
   "source": [
    "df = pd.read_csv('MLBPitchData/atbats.csv')"
   ]
  },
  {
   "cell_type": "markdown",
   "metadata": {},
   "source": [
    "## 2.1 数据摘要\n",
    "\n",
    "包括“数据信息”、“缺失值统计”、“数值数据摘要”、“标称数据摘要”共4部分。"
   ]
  },
  {
   "cell_type": "markdown",
   "metadata": {},
   "source": [
    "### 数据信息\n",
    "\n",
    "数据集中共有11列，740389行。其中有7列是数值属性，3列是标称属性，1列是boolean属性。"
   ]
  },
  {
   "cell_type": "code",
   "execution_count": 27,
   "metadata": {},
   "outputs": [
    {
     "name": "stdout",
     "output_type": "stream",
     "text": [
      "11 columns\n",
      "740389 rows\n",
      "\n",
      "int64     7\n",
      "object    3\n",
      "bool      1\n",
      "dtype: int64\n"
     ]
    }
   ],
   "source": [
    "print('%d columns' % len(df.columns))\n",
    "print('%d rows' % len(df.index))\n",
    "print()\n",
    "print(df.dtypes.value_counts())"
   ]
  },
  {
   "cell_type": "markdown",
   "metadata": {},
   "source": [
    "数据集中的前5行展示如下。"
   ]
  },
  {
   "cell_type": "code",
   "execution_count": 28,
   "metadata": {},
   "outputs": [
    {
     "data": {
      "text/html": [
       "<div>\n",
       "<style scoped>\n",
       "    .dataframe tbody tr th:only-of-type {\n",
       "        vertical-align: middle;\n",
       "    }\n",
       "\n",
       "    .dataframe tbody tr th {\n",
       "        vertical-align: top;\n",
       "    }\n",
       "\n",
       "    .dataframe thead th {\n",
       "        text-align: right;\n",
       "    }\n",
       "</style>\n",
       "<table border=\"1\" class=\"dataframe\">\n",
       "  <thead>\n",
       "    <tr style=\"text-align: right;\">\n",
       "      <th></th>\n",
       "      <th>ab_id</th>\n",
       "      <th>batter_id</th>\n",
       "      <th>event</th>\n",
       "      <th>g_id</th>\n",
       "      <th>inning</th>\n",
       "      <th>o</th>\n",
       "      <th>p_score</th>\n",
       "      <th>p_throws</th>\n",
       "      <th>pitcher_id</th>\n",
       "      <th>stand</th>\n",
       "      <th>top</th>\n",
       "    </tr>\n",
       "  </thead>\n",
       "  <tbody>\n",
       "    <tr>\n",
       "      <th>0</th>\n",
       "      <td>2015000001</td>\n",
       "      <td>572761</td>\n",
       "      <td>Groundout</td>\n",
       "      <td>201500001</td>\n",
       "      <td>1</td>\n",
       "      <td>1</td>\n",
       "      <td>0</td>\n",
       "      <td>L</td>\n",
       "      <td>452657</td>\n",
       "      <td>L</td>\n",
       "      <td>True</td>\n",
       "    </tr>\n",
       "    <tr>\n",
       "      <th>1</th>\n",
       "      <td>2015000002</td>\n",
       "      <td>518792</td>\n",
       "      <td>Double</td>\n",
       "      <td>201500001</td>\n",
       "      <td>1</td>\n",
       "      <td>1</td>\n",
       "      <td>0</td>\n",
       "      <td>L</td>\n",
       "      <td>452657</td>\n",
       "      <td>L</td>\n",
       "      <td>True</td>\n",
       "    </tr>\n",
       "    <tr>\n",
       "      <th>2</th>\n",
       "      <td>2015000003</td>\n",
       "      <td>407812</td>\n",
       "      <td>Single</td>\n",
       "      <td>201500001</td>\n",
       "      <td>1</td>\n",
       "      <td>1</td>\n",
       "      <td>0</td>\n",
       "      <td>L</td>\n",
       "      <td>452657</td>\n",
       "      <td>R</td>\n",
       "      <td>True</td>\n",
       "    </tr>\n",
       "    <tr>\n",
       "      <th>3</th>\n",
       "      <td>2015000004</td>\n",
       "      <td>425509</td>\n",
       "      <td>Strikeout</td>\n",
       "      <td>201500001</td>\n",
       "      <td>1</td>\n",
       "      <td>2</td>\n",
       "      <td>0</td>\n",
       "      <td>L</td>\n",
       "      <td>452657</td>\n",
       "      <td>R</td>\n",
       "      <td>True</td>\n",
       "    </tr>\n",
       "    <tr>\n",
       "      <th>4</th>\n",
       "      <td>2015000005</td>\n",
       "      <td>571431</td>\n",
       "      <td>Strikeout</td>\n",
       "      <td>201500001</td>\n",
       "      <td>1</td>\n",
       "      <td>3</td>\n",
       "      <td>0</td>\n",
       "      <td>L</td>\n",
       "      <td>452657</td>\n",
       "      <td>L</td>\n",
       "      <td>True</td>\n",
       "    </tr>\n",
       "  </tbody>\n",
       "</table>\n",
       "</div>"
      ],
      "text/plain": [
       "        ab_id  batter_id      event       g_id  inning  o  p_score p_throws  \\\n",
       "0  2015000001     572761  Groundout  201500001       1  1        0        L   \n",
       "1  2015000002     518792     Double  201500001       1  1        0        L   \n",
       "2  2015000003     407812     Single  201500001       1  1        0        L   \n",
       "3  2015000004     425509  Strikeout  201500001       1  2        0        L   \n",
       "4  2015000005     571431  Strikeout  201500001       1  3        0        L   \n",
       "\n",
       "   pitcher_id stand   top  \n",
       "0      452657     L  True  \n",
       "1      452657     L  True  \n",
       "2      452657     R  True  \n",
       "3      452657     R  True  \n",
       "4      452657     L  True  "
      ]
     },
     "execution_count": 28,
     "metadata": {},
     "output_type": "execute_result"
    }
   ],
   "source": [
    "df.head()"
   ]
  },
  {
   "cell_type": "markdown",
   "metadata": {},
   "source": [
    "### 缺失值统计\n",
    "\n",
    "统计每一列中的缺失值数量如下。**本数据集中没有缺失值**。"
   ]
  },
  {
   "cell_type": "code",
   "execution_count": 29,
   "metadata": {},
   "outputs": [
    {
     "data": {
      "text/plain": [
       "ab_id         0\n",
       "batter_id     0\n",
       "event         0\n",
       "g_id          0\n",
       "inning        0\n",
       "o             0\n",
       "p_score       0\n",
       "p_throws      0\n",
       "pitcher_id    0\n",
       "stand         0\n",
       "top           0\n",
       "dtype: int64"
      ]
     },
     "execution_count": 29,
     "metadata": {},
     "output_type": "execute_result"
    }
   ],
   "source": [
    "df.isna().sum()"
   ]
  },
  {
   "cell_type": "markdown",
   "metadata": {},
   "source": [
    "### 数值数据摘要\n",
    "\n",
    "统计7个数值属性列的数据数量，平均值，标准差，最小值，最大值，第1四分位点，中位数，第3四分位点信息如下。"
   ]
  },
  {
   "cell_type": "code",
   "execution_count": 30,
   "metadata": {},
   "outputs": [
    {
     "data": {
      "text/html": [
       "<div>\n",
       "<style scoped>\n",
       "    .dataframe tbody tr th:only-of-type {\n",
       "        vertical-align: middle;\n",
       "    }\n",
       "\n",
       "    .dataframe tbody tr th {\n",
       "        vertical-align: top;\n",
       "    }\n",
       "\n",
       "    .dataframe thead th {\n",
       "        text-align: right;\n",
       "    }\n",
       "</style>\n",
       "<table border=\"1\" class=\"dataframe\">\n",
       "  <thead>\n",
       "    <tr style=\"text-align: right;\">\n",
       "      <th></th>\n",
       "      <th>ab_id</th>\n",
       "      <th>batter_id</th>\n",
       "      <th>g_id</th>\n",
       "      <th>inning</th>\n",
       "      <th>o</th>\n",
       "      <th>p_score</th>\n",
       "      <th>pitcher_id</th>\n",
       "    </tr>\n",
       "  </thead>\n",
       "  <tbody>\n",
       "    <tr>\n",
       "      <th>count</th>\n",
       "      <td>7.403890e+05</td>\n",
       "      <td>740389.000000</td>\n",
       "      <td>7.403890e+05</td>\n",
       "      <td>740389.000000</td>\n",
       "      <td>740389.000000</td>\n",
       "      <td>740389.000000</td>\n",
       "      <td>740389.000000</td>\n",
       "    </tr>\n",
       "    <tr>\n",
       "      <th>mean</th>\n",
       "      <td>2.016596e+09</td>\n",
       "      <td>520222.971504</td>\n",
       "      <td>2.016516e+08</td>\n",
       "      <td>5.008161</td>\n",
       "      <td>1.676713</td>\n",
       "      <td>2.286258</td>\n",
       "      <td>526829.729136</td>\n",
       "    </tr>\n",
       "    <tr>\n",
       "      <th>std</th>\n",
       "      <td>1.118980e+06</td>\n",
       "      <td>81257.093703</td>\n",
       "      <td>1.117423e+05</td>\n",
       "      <td>2.656350</td>\n",
       "      <td>0.954318</td>\n",
       "      <td>2.630178</td>\n",
       "      <td>78213.760533</td>\n",
       "    </tr>\n",
       "    <tr>\n",
       "      <th>min</th>\n",
       "      <td>2.015000e+09</td>\n",
       "      <td>112526.000000</td>\n",
       "      <td>2.015000e+08</td>\n",
       "      <td>1.000000</td>\n",
       "      <td>0.000000</td>\n",
       "      <td>0.000000</td>\n",
       "      <td>112526.000000</td>\n",
       "    </tr>\n",
       "    <tr>\n",
       "      <th>25%</th>\n",
       "      <td>2.016001e+09</td>\n",
       "      <td>457759.000000</td>\n",
       "      <td>2.016000e+08</td>\n",
       "      <td>3.000000</td>\n",
       "      <td>1.000000</td>\n",
       "      <td>0.000000</td>\n",
       "      <td>462136.000000</td>\n",
       "    </tr>\n",
       "    <tr>\n",
       "      <th>50%</th>\n",
       "      <td>2.017001e+09</td>\n",
       "      <td>519317.000000</td>\n",
       "      <td>2.017000e+08</td>\n",
       "      <td>5.000000</td>\n",
       "      <td>2.000000</td>\n",
       "      <td>1.000000</td>\n",
       "      <td>534910.000000</td>\n",
       "    </tr>\n",
       "    <tr>\n",
       "      <th>75%</th>\n",
       "      <td>2.018000e+09</td>\n",
       "      <td>592273.000000</td>\n",
       "      <td>2.018000e+08</td>\n",
       "      <td>7.000000</td>\n",
       "      <td>2.000000</td>\n",
       "      <td>4.000000</td>\n",
       "      <td>592836.000000</td>\n",
       "    </tr>\n",
       "    <tr>\n",
       "      <th>max</th>\n",
       "      <td>2.018186e+09</td>\n",
       "      <td>673633.000000</td>\n",
       "      <td>2.018024e+08</td>\n",
       "      <td>19.000000</td>\n",
       "      <td>3.000000</td>\n",
       "      <td>25.000000</td>\n",
       "      <td>673633.000000</td>\n",
       "    </tr>\n",
       "  </tbody>\n",
       "</table>\n",
       "</div>"
      ],
      "text/plain": [
       "              ab_id      batter_id          g_id         inning  \\\n",
       "count  7.403890e+05  740389.000000  7.403890e+05  740389.000000   \n",
       "mean   2.016596e+09  520222.971504  2.016516e+08       5.008161   \n",
       "std    1.118980e+06   81257.093703  1.117423e+05       2.656350   \n",
       "min    2.015000e+09  112526.000000  2.015000e+08       1.000000   \n",
       "25%    2.016001e+09  457759.000000  2.016000e+08       3.000000   \n",
       "50%    2.017001e+09  519317.000000  2.017000e+08       5.000000   \n",
       "75%    2.018000e+09  592273.000000  2.018000e+08       7.000000   \n",
       "max    2.018186e+09  673633.000000  2.018024e+08      19.000000   \n",
       "\n",
       "                   o        p_score     pitcher_id  \n",
       "count  740389.000000  740389.000000  740389.000000  \n",
       "mean        1.676713       2.286258  526829.729136  \n",
       "std         0.954318       2.630178   78213.760533  \n",
       "min         0.000000       0.000000  112526.000000  \n",
       "25%         1.000000       0.000000  462136.000000  \n",
       "50%         2.000000       1.000000  534910.000000  \n",
       "75%         2.000000       4.000000  592836.000000  \n",
       "max         3.000000      25.000000  673633.000000  "
      ]
     },
     "execution_count": 30,
     "metadata": {},
     "output_type": "execute_result"
    }
   ],
   "source": [
    "df.describe()"
   ]
  },
  {
   "cell_type": "markdown",
   "metadata": {},
   "source": [
    "### 标称属性摘要\n",
    "\n",
    "定义`summary_column(col_name)`函数，统计标称属性`col_name`中不同值出现的频数和频率，并展示出现频率最高的前15个值。"
   ]
  },
  {
   "cell_type": "code",
   "execution_count": 32,
   "metadata": {},
   "outputs": [],
   "source": [
    "def summary_column(col_name):\n",
    "    col = df[col_name].value_counts()\n",
    "    print('Colunm name:', col_name)\n",
    "    print('%d different values.' % len(col))\n",
    "    print()\n",
    "    col = df[col_name].value_counts()\n",
    "    col_df = col.to_frame()\n",
    "    col_df['frequency'] = col.apply(lambda x: x / len(col))\n",
    "    col_df.rename(columns={'designation': 'counts'}, inplace=True)\n",
    "    print(col_df.iloc[:15])\n",
    "    print('...')\n",
    "    plt.bar(np.arange(15), col.iloc[:15])\n",
    "    plt.title(col_name)\n",
    "    plt.show()"
   ]
  },
  {
   "cell_type": "markdown",
   "metadata": {},
   "source": [
    "统计**event**列如下。"
   ]
  },
  {
   "cell_type": "code",
   "execution_count": 33,
   "metadata": {
    "scrolled": false
   },
   "outputs": [
    {
     "name": "stdout",
     "output_type": "stream",
     "text": [
      "Colunm name: event\n",
      "30 different values.\n",
      "\n",
      "                   event    frequency\n",
      "Strikeout         157128  5237.600000\n",
      "Groundout         134893  4496.433333\n",
      "Single            108794  3626.466667\n",
      "Flyout             80731  2691.033333\n",
      "Walk               56894  1896.466667\n",
      "Lineout            44934  1497.800000\n",
      "Pop Out            34455  1148.500000\n",
      "Double             33157  1105.233333\n",
      "Home Run           22209   740.300000\n",
      "Forceout           15112   503.733333\n",
      "Grounded Into DP   14717   490.566667\n",
      "Hit By Pitch        6938   231.266667\n",
      "Field Error         6390   213.000000\n",
      "Sac Fly             4773   159.100000\n",
      "Sac Bunt            3969   132.300000\n",
      "...\n"
     ]
    },
    {
     "data": {
      "image/png": "[encoded data removed]",
      "text/plain": [
       "<Figure size 432x288 with 1 Axes>"
      ]
     },
     "metadata": {
      "needs_background": "light"
     },
     "output_type": "display_data"
    }
   ],
   "source": [
    "summary_column('event')"
   ]
  },
  {
   "cell_type": "markdown",
   "metadata": {},
   "source": [
    "## 2.2 数据可视化\n",
    "\n",
    "包括“直方图与qq图”、“盒图”共2部分"
   ]
  },
  {
   "cell_type": "markdown",
   "metadata": {},
   "source": [
    "### 直方图与qq图\n",
    "\n",
    "定义函数`distrib(col_name)`，对指定数值属性列`distrib(col_name)`，首先展示其频率分布直方图，然后将其标准化为均值为0，方差为1的分布，与标准正态分布一起绘制qq图。"
   ]
  },
  {
   "cell_type": "code",
   "execution_count": 34,
   "metadata": {},
   "outputs": [],
   "source": [
    "def distrib(col_name):\n",
    "    col = df[col_name].dropna()\n",
    "    plt.hist(col, 20)\n",
    "    plt.title(col_name)\n",
    "    plt.show()\n",
    "    \n",
    "    col = (col - col.mean()) / col.std()\n",
    "    fig = sm.qqplot(col, line='45')\n",
    "    plt.title('q-q plot')\n",
    "    plt.show()"
   ]
  },
  {
   "cell_type": "markdown",
   "metadata": {},
   "source": [
    "展示**p_score**列如下。从qq图中可以看出，**p_score**列中的数据不满足正态分布。"
   ]
  },
  {
   "cell_type": "code",
   "execution_count": 32,
   "metadata": {},
   "outputs": [
    {
     "data": {
      "image/png": "[encoded data removed]",
      "text/plain": [
       "<Figure size 432x288 with 1 Axes>"
      ]
     },
     "metadata": {
      "needs_background": "light"
     },
     "output_type": "display_data"
    },
    {
     "data": {
      "image/png": "[encoded data removed]",
      "text/plain": [
       "<Figure size 432x288 with 1 Axes>"
      ]
     },
     "metadata": {
      "needs_background": "light"
     },
     "output_type": "display_data"
    }
   ],
   "source": [
    "distrib('p_score')"
   ]
  },
  {
   "cell_type": "markdown",
   "metadata": {},
   "source": [
    "### 盒图\n",
    "\n",
    "定义函数`boxplot(col_name)`来为指定列绘制盒图。"
   ]
  },
  {
   "cell_type": "code",
   "execution_count": 35,
   "metadata": {},
   "outputs": [],
   "source": [
    "def boxplot(col_name):\n",
    "    fig, ax = plt.subplots(figsize=(5, 6))\n",
    "    ax.set_title(col_name)\n",
    "    ax.boxplot(df[col_name].dropna())\n",
    "    plt.show()"
   ]
  },
  {
   "cell_type": "markdown",
   "metadata": {},
   "source": [
    "为**p_score**列绘制盒图如下所示。从盒图中可以看出，**p_score**列中的数据偏向于较小的数值。"
   ]
  },
  {
   "cell_type": "code",
   "execution_count": 36,
   "metadata": {},
   "outputs": [
    {
     "data": {
      "image/png": "[encoded data removed]",
      "text/plain": [
       "<Figure size 360x432 with 1 Axes>"
      ]
     },
     "metadata": {
      "needs_background": "light"
     },
     "output_type": "display_data"
    }
   ],
   "source": [
    "boxplot('p_score')"
   ]
  }
 ],
 "metadata": {
  "kernelspec": {
   "display_name": "Python 3 (ipykernel)",
   "language": "python",
   "name": "python3"
  },
  "language_info": {
   "codemirror_mode": {
    "name": "ipython",
    "version": 3
   },
   "file_extension": ".py",
   "mimetype": "text/x-python",
   "name": "python",
   "nbconvert_exporter": "python",
   "pygments_lexer": "ipython3",
   "version": "3.9.7"
  }
 },
 "nbformat": 4,
 "nbformat_minor": 2
}
